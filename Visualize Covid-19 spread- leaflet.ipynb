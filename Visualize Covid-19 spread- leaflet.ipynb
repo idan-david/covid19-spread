{
 "cells": [
  {
   "cell_type": "code",
   "execution_count": null,
   "metadata": {},
   "outputs": [],
   "source": [
    "import plotly.express as px\n",
    "import plotly.graph_objects as go\n",
    "import requests\n",
    "import pandas as pd\n",
    "from pathlib import Path\n",
    "\n",
    "import folium\n",
    "from folium import plugins\n",
    "from datetime import datetime\n",
    "import random"
   ]
  },
  {
   "cell_type": "code",
   "execution_count": null,
   "metadata": {},
   "outputs": [],
   "source": [
    "data_url = requests.get(f\"https://gisweb.azureedge.net/config.json?r={random.random()}\").json()['com.hamagen']['dataUrl']\n",
    "\n",
    "r = requests.get(data_url)\n",
    "r.encoding = \"utf-8\""
   ]
  },
  {
   "cell_type": "code",
   "execution_count": null,
   "metadata": {},
   "outputs": [],
   "source": [
    "m = folium.Map(\n",
    "    location=[31.710954, 35.212615],\n",
    "    zoom_start=9\n",
    ")\n",
    "\n",
    "data = r.json()\n",
    "for f in data['features']:\n",
    "    f['properties']['time'] = f['properties']['fromTime']\n",
    "    f['properties']['popup'] = f['properties']['Place'] +  ' - ' + datetime.fromtimestamp(f['properties']['time'] / 1000).isoformat()\n",
    "    \n",
    "plugins.TimestampedGeoJson(data, period=\"P1D\", duration=\"P14D\", transition_time=1000).add_to(m)"
   ]
  },
  {
   "cell_type": "code",
   "execution_count": null,
   "metadata": {},
   "outputs": [],
   "source": [
    "m"
   ]
  }
 ],
 "metadata": {
  "kernelspec": {
   "display_name": "Python 3",
   "language": "python",
   "name": "python3"
  },
  "language_info": {
   "codemirror_mode": {
    "name": "ipython",
    "version": 3
   },
   "file_extension": ".py",
   "mimetype": "text/x-python",
   "name": "python",
   "nbconvert_exporter": "python",
   "pygments_lexer": "ipython3",
   "version": "3.7.3-final"
  }
 },
 "nbformat": 4,
 "nbformat_minor": 2
}